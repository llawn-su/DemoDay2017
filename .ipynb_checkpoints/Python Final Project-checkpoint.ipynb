{
 "cells": [
  {
   "cell_type": "markdown",
   "metadata": {},
   "source": [
    "Luke Lawn, Oriana McDonough & Ryan Pike (Group 14)\n",
    "Reviewing Instructor: Angela Ramnarine-Rieks\n",
    "\n",
    "Project Overview: Our project will take the top listened artists from a user’s Spotify account and return concerts and venues where that artist is scheduled to perform. This will save people time and allow them to easily see the artists they love listening to performing live, where they can then purchase concert tickets if they choose to. Our goal is to provide users a new way to preview which shows and events they may want to attend based on their personalized listening history.\n",
    "\n",
    "Inputs: Spotify account username\n",
    "\n",
    "Outputs: Concert tickets options (price, date, time) and venue information (location, contact information) for top listened artists\n",
    "\n",
    "Algorithm: \n",
    "1 - Import Spotify API and TicketMaster API\n",
    "2 - User inputs their Spotify account username\n",
    "3 - Create a list of the user’s top 10 listened artists\n",
    "4 - For each artist in the list, find upcoming concerts and venue information\n",
    "5 - Print the above"
   ]
  },
  {
   "cell_type": "code",
   "execution_count": null,
   "metadata": {
    "collapsed": true
   },
   "outputs": [],
   "source": [
    "!pip install simplejson\n",
    "!pip install spotipy\n",
    "!pip install ticketpy"
   ]
  },
  {
   "cell_type": "code",
   "execution_count": 15,
   "metadata": {
    "scrolled": true
   },
   "outputs": [
    {
     "data": {
      "text/html": [
       "<style  type=\"text/css\" >\n",
       "</style>  \n",
       "<table id=\"T_fe8a1790_db7d_11e7_bfe9_e3f770968664\" > \n",
       "<thead>    <tr> \n",
       "        <th class=\"blank level0\" ></th> \n",
       "        <th class=\"col_heading level0 col0\" >Artist</th> \n",
       "        <th class=\"col_heading level0 col1\" >TicketMaster URL</th> \n",
       "    </tr></thead> \n",
       "<tbody>    <tr> \n",
       "        <th id=\"T_fe8a1790_db7d_11e7_bfe9_e3f770968664\" class=\"row_heading level0 row0\" >0</th> \n",
       "        <td id=\"T_fe8a1790_db7d_11e7_bfe9_e3f770968664row0_col0\" class=\"data row0 col0\" >2 Chainz</td> \n",
       "        <td id=\"T_fe8a1790_db7d_11e7_bfe9_e3f770968664row0_col1\" class=\"data row0 col1\" ><a href=\"http://www.ticketmaster.com/artist/1615064\">http://www.ticketmaster.com/artist/1615064</a></td> \n",
       "    </tr></tbody> \n",
       "</table> "
      ],
      "text/plain": [
       "<pandas.io.formats.style.Styler at 0x20493b20438>"
      ]
     },
     "execution_count": 15,
     "metadata": {},
     "output_type": "execute_result"
    }
   ],
   "source": [
    "import pprint\n",
    "import sys\n",
    "import spotipy\n",
    "import spotipy.util as util\n",
    "import json\n",
    "import pandas as pd\n",
    "import requests\n",
    "\n",
    "scope = 'user-top-read'                                                  #setting scope to authorize API access to user information\n",
    "                      \n",
    "if len(sys.argv) > 1:                                                    #Setting username for spotify token authorization\n",
    "    username = sys.argv[1]\n",
    "else:\n",
    "    print(\"Usage: %s username\" % (sys.argv[0],))\n",
    "    sys.exit()\n",
    "\n",
    "token = util.prompt_for_user_token(username,scope,client_id='69d411268d5d47c7adc4dc6868928548',client_secret='db95e59f1fa242d28a897684312a85e6',redirect_uri='https://accounts.spotify.com/api/token')\n",
    "\n",
    "if token:                               \n",
    "    sp = spotipy.Spotify(auth=token)\n",
    "    sp.trace = False\n",
    "    ranges = ['medium_term']\n",
    "    for range in ranges:\n",
    "        results = sp.current_user_top_artists(time_range=range, limit=10)   #Limiting results to 10 and creating list: artists\n",
    "        for i, item in enumerate(results['items']):\n",
    "            top_artists = [item['name']]\n",
    "else:\n",
    "    print(\"Can't get token for\", username)    \n",
    "\n",
    "\n",
    "def make_clickable(val):\n",
    "    return '<a href=\"{}\">{}</a>'.format(val,val)\n",
    "    \n",
    "import ticketpy\n",
    "import requests\n",
    "import json\n",
    "import pandas as pd\n",
    "import csv\n",
    "import urllib\n",
    "\n",
    "x = 0\n",
    "y = 0\n",
    "\n",
    "artists = []\n",
    "urllist = []\n",
    "df = pd.DataFrame()\n",
    "\n",
    "\n",
    "for t in top_artists:\n",
    "    url = 'https://app.ticketmaster.com/discovery/v2/attractions.json?countryCode=US&classificationName=music&apikey=QQJB3jgFw4OyEe77Y7OGGsFGfqQ0f0hM&keyword='\n",
    "    url = url + urllib.parse.quote_plus(top_artists[y])\n",
    "    response = requests.get(url)\n",
    "    attractions = response.json()\n",
    "    artists.append(attractions['_embedded']['attractions'][0]['name'])\n",
    "    urllist.append(attractions['_embedded']['attractions'][0]['url'])\n",
    "    y = y + 1\n",
    "\n",
    "with open('tickify.csv', 'w') as csvfile:\n",
    "    filewriter = csv.writer(csvfile, delimiter=',', quotechar='|', quoting=csv.QUOTE_MINIMAL)\n",
    "    filewriter.writerow(['Artist', 'TicketMaster URL'])\n",
    "    for a in artists:\n",
    "        filewriter.writerow([artists[x], urllist[x]])\n",
    "        x = x + 1\n",
    "        \n",
    "df = pd.read_csv('tickify.csv')\n",
    "\n",
    "df.style.format(make_clickable, subset=pd.IndexSlice[:, ['TicketMaster URL']])\n",
    "\n",
    "\n"
   ]
  },
  {
   "cell_type": "code",
   "execution_count": 16,
   "metadata": {},
   "outputs": [
    {
     "data": {
      "text/html": [
       "<style  type=\"text/css\" >\n",
       "</style>  \n",
       "<table id=\"T_0a2edc64_db7e_11e7_a6fd_e3f770968664\" > \n",
       "<thead>    <tr> \n",
       "        <th class=\"blank level0\" ></th> \n",
       "        <th class=\"col_heading level0 col0\" >Artist</th> \n",
       "        <th class=\"col_heading level0 col1\" >TicketMaster URL</th> \n",
       "    </tr></thead> \n",
       "<tbody>    <tr> \n",
       "        <th id=\"T_0a2edc64_db7e_11e7_a6fd_e3f770968664\" class=\"row_heading level0 row0\" >0</th> \n",
       "        <td id=\"T_0a2edc64_db7e_11e7_a6fd_e3f770968664row0_col0\" class=\"data row0 col0\" >2 Chainz</td> \n",
       "        <td id=\"T_0a2edc64_db7e_11e7_a6fd_e3f770968664row0_col1\" class=\"data row0 col1\" ><a href=\"http://www.ticketmaster.com/artist/1615064\">http://www.ticketmaster.com/artist/1615064</a></td> \n",
       "    </tr></tbody> \n",
       "</table> "
      ],
      "text/plain": [
       "<pandas.io.formats.style.Styler at 0x2049468fef0>"
      ]
     },
     "execution_count": 16,
     "metadata": {},
     "output_type": "execute_result"
    }
   ],
   "source": [
    "import ticketpy\n",
    "import requests\n",
    "import json\n",
    "import pandas as pd\n",
    "import csv\n",
    "import urllib\n",
    "\n",
    "x = 0\n",
    "y = 0\n",
    "\n",
    "artists = []\n",
    "urllist = []\n",
    "df = pd.DataFrame()\n",
    "\n",
    "for t in top_artists:\n",
    "    url = 'https://app.ticketmaster.com/discovery/v2/attractions.json?countryCode=US&classificationName=music&apikey=QQJB3jgFw4OyEe77Y7OGGsFGfqQ0f0hM&keyword='\n",
    "    url = url + urllib.parse.quote_plus(top_artists[y])\n",
    "    response = requests.get(url)\n",
    "    attractions = response.json()\n",
    "    artists.append(attractions['_embedded']['attractions'][0]['name'])\n",
    "    urllist.append(attractions['_embedded']['attractions'][0]['url'])\n",
    "    y = y + 1\n",
    "\n",
    "def make_clickable(val):\n",
    "    return '<a href=\"{}\">{}</a>'.format(val,val)\n",
    "\n",
    "with open('tickify.csv', 'w') as csvfile:\n",
    "    filewriter = csv.writer(csvfile, delimiter=',', quotechar='|', quoting=csv.QUOTE_MINIMAL)\n",
    "    filewriter.writerow(['Artist', 'TicketMaster URL'])\n",
    "    for a in artists:\n",
    "        filewriter.writerow([artists[x], urllist[x]])\n",
    "        x = x + 1\n",
    "        \n",
    "df = pd.read_csv('tickify.csv')\n",
    "\n",
    "df.style.format(make_clickable, subset=pd.IndexSlice[:, ['TicketMaster URL']])\n",
    "\n",
    "\n"
   ]
  },
  {
   "cell_type": "code",
   "execution_count": 13,
   "metadata": {},
   "outputs": [
    {
     "name": "stdout",
     "output_type": "stream",
     "text": [
      "['Lil Uzi Vert']\n",
      "['A$AP Mob']\n",
      "['Kodak Black']\n",
      "['Travis Scott']\n",
      "['Gucci Mane']\n",
      "['Meek Mill']\n",
      "['Sublime']\n",
      "['21 Savage']\n",
      "['Drake']\n",
      "['2 Chainz']\n"
     ]
    }
   ],
   "source": [
    "import pprint\n",
    "import sys\n",
    "import spotipy\n",
    "import spotipy.util as util\n",
    "import json\n",
    "import pandas as pd\n",
    "\n",
    "scope = 'user-top-read'                                                  #setting scope to authorize API access to user information\n",
    "                      \n",
    "if len(sys.argv) > 1:                                                    #Setting username for spotify token authorization\n",
    "    username = sys.argv[1]\n",
    "else:\n",
    "    print(\"Usage: %s username\" % (sys.argv[0],))\n",
    "    sys.exit()\n",
    "\n",
    "token = util.prompt_for_user_token(username,scope,client_id='69d411268d5d47c7adc4dc6868928548',client_secret='db95e59f1fa242d28a897684312a85e6',redirect_uri='https://accounts.spotify.com/authorize')\n",
    "\n",
    "if token:                               \n",
    "    sp = spotipy.Spotify(auth=token)\n",
    "    sp.trace = False\n",
    "    ranges = ['medium_term']\n",
    "    for range in ranges:\n",
    "        results = sp.current_user_top_artists(time_range=range, limit=10)   #Limiting results to 10 and creating list: artists\n",
    "        for i, item in enumerate(results['items']):\n",
    "            artists = [item['name']]\n",
    "            print(artists)\n",
    "else:\n",
    "    print(\"Can't get token for\", username) "
   ]
  },
  {
   "cell_type": "code",
   "execution_count": null,
   "metadata": {
    "collapsed": true
   },
   "outputs": [],
   "source": []
  }
 ],
 "metadata": {
  "kernelspec": {
   "display_name": "Python 3",
   "language": "python",
   "name": "python3"
  },
  "language_info": {
   "codemirror_mode": {
    "name": "ipython",
    "version": 3
   },
   "file_extension": ".py",
   "mimetype": "text/x-python",
   "name": "python",
   "nbconvert_exporter": "python",
   "pygments_lexer": "ipython3",
   "version": "3.6.1"
  }
 },
 "nbformat": 4,
 "nbformat_minor": 2
}
