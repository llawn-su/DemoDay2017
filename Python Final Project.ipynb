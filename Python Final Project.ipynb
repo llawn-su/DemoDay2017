{
 "cells": [
  {
   "cell_type": "markdown",
   "metadata": {},
   "source": [
    "Luke Lawn, Oriana McDonough & Ryan Pike (Group 14)\n",
    "Reviewing Instructor: Angela Ramnarine-Rieks\n",
    "\n",
    "Project Overview: Our project will take the top listened artists from a user’s Spotify account and return concerts and venues where that artist is scheduled to perform. This will save people time and allow them to easily see the artists they love listening to performing live, where they can then purchase concert tickets if they choose to. Our goal is to provide users a new way to preview which shows and events they may want to attend based on their personalized listening history.\n",
    "\n",
    "Inputs: Spotify account username\n",
    "\n",
    "Outputs: Concert tickets options (price, date, time) and venue information (location, contact information) for top listened artists\n",
    "\n",
    "Algorithm: \n",
    "1 - Import Spotify API and TicketMaster API\n",
    "2 - User inputs their Spotify account username\n",
    "3 - Create a list of the user’s top 10 listened artists\n",
    "4 - For each artist in the list, find upcoming concerts and venue information\n",
    "5 - Print the above"
   ]
  },
  {
   "cell_type": "code",
   "execution_count": null,
   "metadata": {},
   "outputs": [],
   "source": [
    "import sys\n",
    "import spotipy\n",
    "sp = spotipy.Spotify()\n"
   ]
  },
  {
   "cell_type": "code",
   "execution_count": null,
   "metadata": {},
   "outputs": [],
   "source": [
    "!pip install spotipy"
   ]
  },
  {
   "cell_type": "code",
   "execution_count": null,
   "metadata": {},
   "outputs": [],
   "source": [
    "import sys\n",
    "import spotipy\n",
    "import spotipy.util as util\n",
    "\n",
    "def show_tracks(tracks):\n",
    "    for i, item in enumerate(tracks['items']):\n",
    "        track = item['track']\n",
    "        print(%d %32.32s %s\" % (i, track['artists'][0]['name'],track['name'])\n",
    "\n",
    "\n",
    "if __name__ == '__main__':\n",
    "    if len(sys.argv) > 1:\n",
    "        username = sys.argv[1]\n",
    "    else:\n",
    "        print \"Whoops, need your username!\"\n",
    "        print \"usage: python user_playlists.py [username]\"\n",
    "        sys.exit()\n",
    "\n",
    "    token = util.prompt_for_user_token(username)\n",
    "\n",
    "    if token:\n",
    "        sp = spotipy.Spotify(auth=token)\n",
    "        playlists = sp.user_playlists(username)\n",
    "        for playlist in playlists['items']:\n",
    "            if playlist['owner']['id'] == username:\n",
    "                print\n",
    "                print playlist['name']\n",
    "                print '  total tracks', playlist['tracks']['total']\n",
    "                results = sp.user_playlist(username, playlist['id'],\n",
    "                    fields=\"tracks,next\")\n",
    "                tracks = results['tracks']\n",
    "                show_tracks(tracks)\n",
    "                while tracks['next']:\n",
    "                    tracks = sp.next(tracks)\n",
    "                    show_tracks(tracks)\n",
    "    else:\n",
    "        print \"Can't get token for\", username"
   ]
  },
  {
   "cell_type": "code",
   "execution_count": null,
   "metadata": {},
   "outputs": [
    {
     "name": "stdout",
     "output_type": "stream",
     "text": [
      "\n",
      "\n",
      "            User authentication requires interaction with your\n",
      "            web browser. Once you enter your credentials and\n",
      "            give authorization, you will be redirected to\n",
      "            a url.  Paste that url you were directed to to\n",
      "            complete the authorization.\n",
      "\n",
      "        \n",
      "Opened https://accounts.spotify.com/authorize?client_id=69d411268d5d47c7adc4dc6868928548&response_type=code&redirect_uri=http%3A%2F%2Flocalhost%3A8888%2Fcallback&scope=user-library-read in your browser\n",
      "\n",
      "\n"
     ]
    }
   ],
   "source": [
    "import sys\n",
    "import spotipy\n",
    "import spotipy.util as util\n",
    "username = 'Hockeygoal43@gmail.com'\n",
    "scope = 'user-library-read'\n",
    "token = util.prompt_for_user_token(username,scope,client_id='69d411268d5d47c7adc4dc6868928548',client_secret='db95e59f1fa242d28a897684312a85e6',redirect_uri='http://localhost:8888/callback')\n",
    "\n",
    "\n",
    "\n",
    "if len(sys.argv) > 1:\n",
    "    username = sys.argv[1]\n",
    "\n",
    "token = util.prompt_for_user_token(username, scope)\n",
    "\n",
    "if token:\n",
    "    sp = spotipy.Spotify(auth=token)\n",
    "    results = sp.current_user_saved_tracks()\n",
    "    for item in results['items']:\n",
    "        track = item['track']\n",
    "        print (track['name'] + ' - ' + track['artists'][0]['name'])\n",
    "else:\n",
    "    print(\"Can't get token for\", username)"
   ]
  },
  {
   "cell_type": "code",
   "execution_count": null,
   "metadata": {},
   "outputs": [],
   "source": []
  },
  {
   "cell_type": "code",
   "execution_count": null,
   "metadata": {
    "collapsed": true
   },
   "outputs": [],
   "source": []
  }
 ],
 "metadata": {
  "kernelspec": {
   "display_name": "Python 3",
   "language": "python",
   "name": "python3"
  }
 },
 "nbformat": 4,
 "nbformat_minor": 2
}
