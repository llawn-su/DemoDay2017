{
 "cells": [
  {
   "cell_type": "markdown",
   "metadata": {},
   "source": [
    "Luke Lawn, Oriana McDonough & Ryan Pike (Group 14)\n",
    "Reviewing Instructor: Angela Ramnarine-Rieks\n",
    "\n",
    "Project Overview: Our project will take the top listened artists from a user’s Spotify account and return concerts and venues where that artist is scheduled to perform. This will save people time and allow them to easily see the artists they love listening to performing live, where they can then purchase concert tickets if they choose to. Our goal is to provide users a new way to preview which shows and events they may want to attend based on their personalized listening history.\n",
    "\n",
    "Inputs: Spotify account username\n",
    "\n",
    "Outputs: Concert tickets options (price, date, time) and venue information (location, contact information) for top listened artists\n",
    "\n",
    "Algorithm: \n",
    "1 - Import Spotify API and TicketMaster API\n",
    "2 - User inputs their Spotify account username\n",
    "3 - Create a list of the user’s top 10 listened artists\n",
    "4 - For each artist in the list, find upcoming concerts and venue information\n",
    "5 - Print the above"
   ]
  },
  {
   "cell_type": "code",
   "execution_count": 2,
   "metadata": {},
   "outputs": [
    {
     "name": "stdout",
     "output_type": "stream",
     "text": [
      "Requirement already satisfied: pandas in c:\\programdata\\anaconda3\\lib\\site-packages\n",
      "Requirement already satisfied: python-dateutil>=2 in c:\\programdata\\anaconda3\\lib\\site-packages (from pandas)\n",
      "Requirement already satisfied: pytz>=2011k in c:\\programdata\\anaconda3\\lib\\site-packages (from pandas)\n",
      "Requirement already satisfied: numpy>=1.7.0 in c:\\programdata\\anaconda3\\lib\\site-packages (from pandas)\n",
      "Requirement already satisfied: six>=1.5 in c:\\programdata\\anaconda3\\lib\\site-packages (from python-dateutil>=2->pandas)\n"
     ]
    }
   ],
   "source": [
    "!pip install simplejson\n",
    "!pip install spotipy\n",
    "!pip install ticketpy"
   ]
  },
  {
   "cell_type": "code",
   "execution_count": 8,
   "metadata": {
    "scrolled": true
   },
   "outputs": [
    {
     "name": "stdout",
     "output_type": "stream",
     "text": [
      "['Lil Uzi Vert']\n",
      "['A$AP Mob']\n",
      "['Kodak Black']\n",
      "['Travis Scott']\n",
      "['Gucci Mane']\n",
      "['Meek Mill']\n",
      "['Sublime']\n",
      "['21 Savage']\n",
      "['Drake']\n",
      "['2 Chainz']\n"
     ]
    }
   ],
   "source": [
    "import pprint\n",
    "import sys\n",
    "\n",
    "import spotipy\n",
    "import spotipy.util as util\n",
    "import simplejson as json\n",
    "import pandas as pd\n",
    "\n",
    "def spotify_username():                        # Defines the username for authentication\n",
    "    if len(sys.argv) > 1:\n",
    "        username = sys.argv[1]\n",
    "    else:\n",
    "        print(\"Usage: %s username\" % (sys.argv[0],))\n",
    "        sys.exit()\n",
    "\n",
    "def spotify_artists():                         # Queries the user's top artists using the Spotify API \n",
    "    df = pd.DataFrame()\n",
    "    if token:                                  # We refined our results to just return medium-term (consistently popular) artists\n",
    "        sp = spotipy.Spotify(auth=token)\n",
    "        sp.trace = False\n",
    "        ranges = ['medium_term']\n",
    "        for range in ranges:\n",
    "            results = sp.current_user_top_artists(time_range=range, limit=10)\n",
    "            for i, item in enumerate(results['items']):\n",
    "                artists = [item['name']]\n",
    "                df = artists\n",
    "                print(df)\n",
    "    else:\n",
    "        print(\"Can't get token for\", username)    \n",
    "\n",
    "\n",
    "\n",
    "scope = 'user-top-read'\n",
    "token = util.prompt_for_user_token(username,scope,client_id='69d411268d5d47c7adc4dc6868928548',client_secret='db95e59f1fa242d28a897684312a85e6',redirect_uri='https://accounts.spotify.com/api/token')\n",
    "spotify_username()\n",
    "spotify_artists()   \n"
   ]
  },
  {
   "cell_type": "code",
   "execution_count": 9,
   "metadata": {},
   "outputs": [
    {
     "data": {
      "text/html": [
       "<style  type=\"text/css\" >\n",
       "</style>  \n",
       "<table id=\"T_ff74ab42_da1f_11e7_9f30_e3f770968664\" > \n",
       "<thead>    <tr> \n",
       "        <th class=\"blank level0\" ></th> \n",
       "        <th class=\"col_heading level0 col0\" >Artist</th> \n",
       "        <th class=\"col_heading level0 col1\" >TicketMaster URL</th> \n",
       "    </tr></thead> \n",
       "<tbody>    <tr> \n",
       "        <th id=\"T_ff74ab42_da1f_11e7_9f30_e3f770968664\" class=\"row_heading level0 row0\" >0</th> \n",
       "        <td id=\"T_ff74ab42_da1f_11e7_9f30_e3f770968664row0_col0\" class=\"data row0 col0\" >U2</td> \n",
       "        <td id=\"T_ff74ab42_da1f_11e7_9f30_e3f770968664row0_col1\" class=\"data row0 col1\" ><a href=\"http://www.ticketmaster.com/artist/736365\">http://www.ticketmaster.com/artist/736365</a></td> \n",
       "    </tr>    <tr> \n",
       "        <th id=\"T_ff74ab42_da1f_11e7_9f30_e3f770968664\" class=\"row_heading level0 row1\" >1</th> \n",
       "        <td id=\"T_ff74ab42_da1f_11e7_9f30_e3f770968664row1_col0\" class=\"data row1 col0\" >Eagles</td> \n",
       "        <td id=\"T_ff74ab42_da1f_11e7_9f30_e3f770968664row1_col1\" class=\"data row1 col1\" ><a href=\"http://www.ticketmaster.com/artist/734977\">http://www.ticketmaster.com/artist/734977</a></td> \n",
       "    </tr>    <tr> \n",
       "        <th id=\"T_ff74ab42_da1f_11e7_9f30_e3f770968664\" class=\"row_heading level0 row2\" >2</th> \n",
       "        <td id=\"T_ff74ab42_da1f_11e7_9f30_e3f770968664row2_col0\" class=\"data row2 col0\" >Ed Sheeran</td> \n",
       "        <td id=\"T_ff74ab42_da1f_11e7_9f30_e3f770968664row2_col1\" class=\"data row2 col1\" ><a href=\"http://www.ticketmaster.com/artist/1560779\">http://www.ticketmaster.com/artist/1560779</a></td> \n",
       "    </tr>    <tr> \n",
       "        <th id=\"T_ff74ab42_da1f_11e7_9f30_e3f770968664\" class=\"row_heading level0 row3\" >3</th> \n",
       "        <td id=\"T_ff74ab42_da1f_11e7_9f30_e3f770968664row3_col0\" class=\"data row3 col0\" >Kenny Chesney</td> \n",
       "        <td id=\"T_ff74ab42_da1f_11e7_9f30_e3f770968664row3_col1\" class=\"data row3 col1\" ><a href=\"http://www.ticketmaster.com/artist/767989\">http://www.ticketmaster.com/artist/767989</a></td> \n",
       "    </tr>    <tr> \n",
       "        <th id=\"T_ff74ab42_da1f_11e7_9f30_e3f770968664\" class=\"row_heading level0 row4\" >4</th> \n",
       "        <td id=\"T_ff74ab42_da1f_11e7_9f30_e3f770968664row4_col0\" class=\"data row4 col0\" >Dancing with the Stars</td> \n",
       "        <td id=\"T_ff74ab42_da1f_11e7_9f30_e3f770968664row4_col1\" class=\"data row4 col1\" ><a href=\"http://www.ticketmaster.com/artist/1086116\">http://www.ticketmaster.com/artist/1086116</a></td> \n",
       "    </tr>    <tr> \n",
       "        <th id=\"T_ff74ab42_da1f_11e7_9f30_e3f770968664\" class=\"row_heading level0 row5\" >5</th> \n",
       "        <td id=\"T_ff74ab42_da1f_11e7_9f30_e3f770968664row5_col0\" class=\"data row5 col0\" >Shania Twain</td> \n",
       "        <td id=\"T_ff74ab42_da1f_11e7_9f30_e3f770968664row5_col1\" class=\"data row5 col1\" ><a href=\"http://www.ticketmaster.com/artist/764367\">http://www.ticketmaster.com/artist/764367</a></td> \n",
       "    </tr>    <tr> \n",
       "        <th id=\"T_ff74ab42_da1f_11e7_9f30_e3f770968664\" class=\"row_heading level0 row6\" >6</th> \n",
       "        <td id=\"T_ff74ab42_da1f_11e7_9f30_e3f770968664row6_col0\" class=\"data row6 col0\" >Romeo Santos</td> \n",
       "        <td id=\"T_ff74ab42_da1f_11e7_9f30_e3f770968664row6_col1\" class=\"data row6 col1\" ><a href=\"http://www.ticketmaster.com/artist/1670057\">http://www.ticketmaster.com/artist/1670057</a></td> \n",
       "    </tr>    <tr> \n",
       "        <th id=\"T_ff74ab42_da1f_11e7_9f30_e3f770968664\" class=\"row_heading level0 row7\" >7</th> \n",
       "        <td id=\"T_ff74ab42_da1f_11e7_9f30_e3f770968664row7_col0\" class=\"data row7 col0\" >Foo Fighters</td> \n",
       "        <td id=\"T_ff74ab42_da1f_11e7_9f30_e3f770968664row7_col1\" class=\"data row7 col1\" ><a href=\"http://www.ticketmaster.com/artist/776005\">http://www.ticketmaster.com/artist/776005</a></td> \n",
       "    </tr>    <tr> \n",
       "        <th id=\"T_ff74ab42_da1f_11e7_9f30_e3f770968664\" class=\"row_heading level0 row8\" >8</th> \n",
       "        <td id=\"T_ff74ab42_da1f_11e7_9f30_e3f770968664row8_col0\" class=\"data row8 col0\" >Andrea Bocelli</td> \n",
       "        <td id=\"T_ff74ab42_da1f_11e7_9f30_e3f770968664row8_col1\" class=\"data row8 col1\" ><a href=\"http://www.ticketmaster.com/artist/773296\">http://www.ticketmaster.com/artist/773296</a></td> \n",
       "    </tr>    <tr> \n",
       "        <th id=\"T_ff74ab42_da1f_11e7_9f30_e3f770968664\" class=\"row_heading level0 row9\" >9</th> \n",
       "        <td id=\"T_ff74ab42_da1f_11e7_9f30_e3f770968664row9_col0\" class=\"data row9 col0\" >Sam Smith</td> \n",
       "        <td id=\"T_ff74ab42_da1f_11e7_9f30_e3f770968664row9_col1\" class=\"data row9 col1\" ><a href=\"http://www.ticketmaster.com/artist/1785301\">http://www.ticketmaster.com/artist/1785301</a></td> \n",
       "    </tr>    <tr> \n",
       "        <th id=\"T_ff74ab42_da1f_11e7_9f30_e3f770968664\" class=\"row_heading level0 row10\" >10</th> \n",
       "        <td id=\"T_ff74ab42_da1f_11e7_9f30_e3f770968664row10_col0\" class=\"data row10 col0\" >Luke Bryan</td> \n",
       "        <td id=\"T_ff74ab42_da1f_11e7_9f30_e3f770968664row10_col1\" class=\"data row10 col1\" ><a href=\"http://www.ticketmaster.com/artist/1044173\">http://www.ticketmaster.com/artist/1044173</a></td> \n",
       "    </tr>    <tr> \n",
       "        <th id=\"T_ff74ab42_da1f_11e7_9f30_e3f770968664\" class=\"row_heading level0 row11\" >11</th> \n",
       "        <td id=\"T_ff74ab42_da1f_11e7_9f30_e3f770968664row11_col0\" class=\"data row11 col0\" >Lana Del Rey</td> \n",
       "        <td id=\"T_ff74ab42_da1f_11e7_9f30_e3f770968664row11_col1\" class=\"data row11 col1\" ><a href=\"http://www.ticketmaster.com/artist/1646704\">http://www.ticketmaster.com/artist/1646704</a></td> \n",
       "    </tr>    <tr> \n",
       "        <th id=\"T_ff74ab42_da1f_11e7_9f30_e3f770968664\" class=\"row_heading level0 row12\" >12</th> \n",
       "        <td id=\"T_ff74ab42_da1f_11e7_9f30_e3f770968664row12_col0\" class=\"data row12 col0\" >Tim McGraw</td> \n",
       "        <td id=\"T_ff74ab42_da1f_11e7_9f30_e3f770968664row12_col1\" class=\"data row12 col1\" ><a href=\"http://www.ticketmaster.com/artist/762799\">http://www.ticketmaster.com/artist/762799</a></td> \n",
       "    </tr>    <tr> \n",
       "        <th id=\"T_ff74ab42_da1f_11e7_9f30_e3f770968664\" class=\"row_heading level0 row13\" >13</th> \n",
       "        <td id=\"T_ff74ab42_da1f_11e7_9f30_e3f770968664row13_col0\" class=\"data row13 col0\" >Miranda Lambert</td> \n",
       "        <td id=\"T_ff74ab42_da1f_11e7_9f30_e3f770968664row13_col1\" class=\"data row13 col1\" ><a href=\"http://www.ticketmaster.com/artist/948174\">http://www.ticketmaster.com/artist/948174</a></td> \n",
       "    </tr>    <tr> \n",
       "        <th id=\"T_ff74ab42_da1f_11e7_9f30_e3f770968664\" class=\"row_heading level0 row14\" >14</th> \n",
       "        <td id=\"T_ff74ab42_da1f_11e7_9f30_e3f770968664row14_col0\" class=\"data row14 col0\" >Chris Brown</td> \n",
       "        <td id=\"T_ff74ab42_da1f_11e7_9f30_e3f770968664row14_col1\" class=\"data row14 col1\" ><a href=\"http://www.ticketmaster.com/artist/1013849\">http://www.ticketmaster.com/artist/1013849</a></td> \n",
       "    </tr>    <tr> \n",
       "        <th id=\"T_ff74ab42_da1f_11e7_9f30_e3f770968664\" class=\"row_heading level0 row15\" >15</th> \n",
       "        <td id=\"T_ff74ab42_da1f_11e7_9f30_e3f770968664row15_col0\" class=\"data row15 col0\" >Brad Paisley</td> \n",
       "        <td id=\"T_ff74ab42_da1f_11e7_9f30_e3f770968664row15_col1\" class=\"data row15 col1\" ><a href=\"http://www.ticketmaster.com/artist/714837\">http://www.ticketmaster.com/artist/714837</a></td> \n",
       "    </tr>    <tr> \n",
       "        <th id=\"T_ff74ab42_da1f_11e7_9f30_e3f770968664\" class=\"row_heading level0 row16\" >16</th> \n",
       "        <td id=\"T_ff74ab42_da1f_11e7_9f30_e3f770968664row16_col0\" class=\"data row16 col0\" >Garth Brooks</td> \n",
       "        <td id=\"T_ff74ab42_da1f_11e7_9f30_e3f770968664row16_col1\" class=\"data row16 col1\" ><a href=\"http://www.ticketmaster.com/artist/732705\">http://www.ticketmaster.com/artist/732705</a></td> \n",
       "    </tr>    <tr> \n",
       "        <th id=\"T_ff74ab42_da1f_11e7_9f30_e3f770968664\" class=\"row_heading level0 row17\" >17</th> \n",
       "        <td id=\"T_ff74ab42_da1f_11e7_9f30_e3f770968664row17_col0\" class=\"data row17 col0\" >Chris Tomlin</td> \n",
       "        <td id=\"T_ff74ab42_da1f_11e7_9f30_e3f770968664row17_col1\" class=\"data row17 col1\" ><a href=\"http://www.ticketmaster.com/artist/982298\">http://www.ticketmaster.com/artist/982298</a></td> \n",
       "    </tr>    <tr> \n",
       "        <th id=\"T_ff74ab42_da1f_11e7_9f30_e3f770968664\" class=\"row_heading level0 row18\" >18</th> \n",
       "        <td id=\"T_ff74ab42_da1f_11e7_9f30_e3f770968664row18_col0\" class=\"data row18 col0\" >Straight No Chaser</td> \n",
       "        <td id=\"T_ff74ab42_da1f_11e7_9f30_e3f770968664row18_col1\" class=\"data row18 col1\" ><a href=\"http://www.ticketmaster.com/artist/1261643\">http://www.ticketmaster.com/artist/1261643</a></td> \n",
       "    </tr>    <tr> \n",
       "        <th id=\"T_ff74ab42_da1f_11e7_9f30_e3f770968664\" class=\"row_heading level0 row19\" >19</th> \n",
       "        <td id=\"T_ff74ab42_da1f_11e7_9f30_e3f770968664row19_col0\" class=\"data row19 col0\" >Marc Anthony</td> \n",
       "        <td id=\"T_ff74ab42_da1f_11e7_9f30_e3f770968664row19_col1\" class=\"data row19 col1\" ><a href=\"http://www.ticketmaster.com/artist/759949\">http://www.ticketmaster.com/artist/759949</a></td> \n",
       "    </tr></tbody> \n",
       "</table> "
      ],
      "text/plain": [
       "<pandas.io.formats.style.Styler at 0x24dcc472780>"
      ]
     },
     "execution_count": 9,
     "metadata": {},
     "output_type": "execute_result"
    }
   ],
   "source": [
    "import ticketpy\n",
    "import requests\n",
    "import json\n",
    "import pandas as pd\n",
    "import csv\n",
    "\n",
    "def make_clickable(val):\n",
    "    return '<a href=\"{}\">{}</a>'.format(val,val)\n",
    "\n",
    "x = 0\n",
    "artists = []\n",
    "urllist = []\n",
    "df = pd.DataFrame()\n",
    "\n",
    "url = 'https://app.ticketmaster.com/discovery/v2/attractions.json?countryCode=US&classificationName=music&apikey=QQJB3jgFw4OyEe77Y7OGGsFGfqQ0f0hM'\n",
    "response = requests.get(url)\n",
    "attractions = response.json()\n",
    "\n",
    "for i in attractions['_embedded']['attractions']:\n",
    "    artists.append(attractions['_embedded']['attractions'][x]['name'])\n",
    "    urllist.append(attractions['_embedded']['attractions'][x]['url'])\n",
    "    x = x + 1\n",
    "\n",
    "x = 0\n",
    "\n",
    "with open('tickify.csv', 'w') as csvfile:\n",
    "    filewriter = csv.writer(csvfile, delimiter=',', quotechar='|', quoting=csv.QUOTE_MINIMAL)\n",
    "    filewriter.writerow(['Artist', 'TicketMaster URL'])\n",
    "    for a in artists:\n",
    "        filewriter.writerow([artists[x], urllist[x]])\n",
    "        x = x + 1\n",
    "        \n",
    "df = pd.read_csv('tickify.csv')\n",
    "\n",
    "df.style.format(make_clickable, subset=pd.IndexSlice[:, ['TicketMaster URL']])\n",
    "\n",
    "\n"
   ]
  },
  {
   "cell_type": "code",
   "execution_count": null,
   "metadata": {
    "collapsed": true
   },
   "outputs": [],
   "source": []
  }
 ],
 "metadata": {
  "kernelspec": {
   "display_name": "Python 3",
   "language": "python",
   "name": "python3"
  },
  "language_info": {
   "codemirror_mode": {
    "name": "ipython",
    "version": 3
   },
   "file_extension": ".py",
   "mimetype": "text/x-python",
   "name": "python",
   "nbconvert_exporter": "python",
   "pygments_lexer": "ipython3",
   "version": "3.6.1"
  }
 },
 "nbformat": 4,
 "nbformat_minor": 2
}
