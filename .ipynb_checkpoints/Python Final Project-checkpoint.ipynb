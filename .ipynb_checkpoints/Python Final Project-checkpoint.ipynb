{
 "cells": [
  {
   "cell_type": "markdown",
   "metadata": {},
   "source": [
    "Luke Lawn, Oriana McDonough & Ryan Pike (Group 14)\n",
    "Reviewing Instructor: Angela Ramnarine-Rieks\n",
    "\n",
    "Project Overview: Our project will take the top listened artists from a user’s Spotify account and return concerts and venues where that artist is scheduled to perform. This will save people time and allow them to easily see the artists they love listening to performing live, where they can then purchase concert tickets if they choose to. Our goal is to provide users a new way to preview which shows and events they may want to attend based on their personalized listening history.\n",
    "\n",
    "Inputs: Spotify account username\n",
    "\n",
    "Outputs: Concert tickets options (price, date, time) and venue information (location, contact information) for top listened artists\n",
    "\n",
    "Algorithm: \n",
    "1 - Import Spotify API and TicketMaster API\n",
    "2 - User inputs their Spotify account username\n",
    "3 - Create a list of the user’s top 10 listened artists\n",
    "4 - For each artist in the list, find upcoming concerts and venue information\n",
    "5 - Print the above"
   ]
  },
  {
   "cell_type": "code",
   "execution_count": null,
   "metadata": {
    "collapsed": true
   },
   "outputs": [],
   "source": [
    "import sys\n",
    "import spotipy\n",
    "sp = spotipy.Spotify()\n"
   ]
  },
  {
   "cell_type": "code",
   "execution_count": null,
   "metadata": {
    "collapsed": true
   },
   "outputs": [],
   "source": [
    "!pip install spotipy"
   ]
  },
  {
   "cell_type": "code",
   "execution_count": null,
   "metadata": {},
   "outputs": [],
   "source": [
    "import sys\n",
    "import spotipy\n",
    "import spotipy.util as util\n",
    "\n",
    "def show_tracks(tracks):\n",
    "    for i, item in enumerate(tracks['items']):\n",
    "        track = item['track']\n",
    "        print(%d %32.32s %s\" % (i, track['artists'][0]['name'],track['name'])\n",
    "\n",
    "\n",
    "if __name__ == '__main__':\n",
    "    if len(sys.argv) > 1:\n",
    "        username = sys.argv[1]\n",
    "    else:\n",
    "        print \"Whoops, need your username!\"\n",
    "        print \"usage: python user_playlists.py [username]\"\n",
    "        sys.exit()\n",
    "\n",
    "    token = util.prompt_for_user_token(username)\n",
    "\n",
    "    if token:\n",
    "        sp = spotipy.Spotify(auth=token)\n",
    "        playlists = sp.user_playlists(username)\n",
    "        for playlist in playlists['items']:\n",
    "            if playlist['owner']['id'] == username:\n",
    "                print\n",
    "                print playlist['name']\n",
    "                print '  total tracks', playlist['tracks']['total']\n",
    "                results = sp.user_playlist(username, playlist['id'],\n",
    "                    fields=\"tracks,next\")\n",
    "                tracks = results['tracks']\n",
    "                show_tracks(tracks)\n",
    "                while tracks['next']:\n",
    "                    tracks = sp.next(tracks)\n",
    "                    show_tracks(tracks)\n",
    "    else:\n",
    "        print \"Can't get token for\", username"
   ]
  },
  {
   "cell_type": "code",
   "execution_count": null,
   "metadata": {},
   "outputs": [],
   "source": [
    "import sys\n",
    "import spotipy\n",
    "import spotipy.util as util\n",
    "username = input('Input an account name:')\n",
    "scope = 'user-library-read'\n",
    "token = util.prompt_for_user_token(username,scope,client_id='69d411268d5d47c7adc4dc6868928548',client_secret='db95e59f1fa242d28a897684312a85e6',redirect_uri='https://accounts.spotify.com/authorize?client_id=5fe01282e94241328a84e7c5cc169164&redirect_uri=http%3A%2F%2Fexample.com%2Fcallback&scope=user-read-private%20user-read-email&response_type=token&state=123')\n",
    "\n",
    "if token:\n",
    "    sp = spotipy.Spotify(auth=token)\n",
    "    results = sp.current_user_saved_tracks()\n",
    "    for item in results['items']:\n",
    "        track = item['track']\n",
    "        print (track['name'] + ' - ' + track['artists'][0]['name'])\n",
    "else:\n",
    "    print(\"Can't get token for\", username)"
   ]
  },
  {
   "cell_type": "code",
   "execution_count": null,
   "metadata": {},
   "outputs": [],
   "source": [
    "import sys\n",
    "import spotipy\n",
    "import spotipy.util as util\n",
    "\n",
    "sp = spotipy.Spotify()\n",
    "\n",
    "username = input('Input an account name:')\n",
    "scope = 'user-library-read'\n",
    "Client_id='69d411268d5d47c7adc4dc6868928548'\n",
    "class spotipy.oauth2.SpotifyOAuth(69d411268d5d47c7adc4dc6868928548, db95e59f1fa242d28a897684312a85e6, https://accounts.spotify.com/authorize, state=None, scope=None, cache_path=None, proxies=None)\n",
    "OAUTH_TOKEN_URL = 'https://accounts.spotify.com/api/token'\n",
    "\n",
    "__init__(client_id, client_secret, redirect_uri, state=None, scope=None, cache_path=None, proxies=None)\n",
    "\n",
    "topartists = sp.current_user_top_artists(limit=10, offset=0, time_range='medium_term')\n"
   ]
  },
  {
   "cell_type": "code",
   "execution_count": null,
   "metadata": {
    "collapsed": true
   },
   "outputs": [],
   "source": [
    "token = util.prompt_for_user_token(username,scope,client_id='69d411268d5d47c7adc4dc6868928548',client_secret='db95e59f1fa242d28a897684312a85e6',redirect_uri='https://accounts.spotify.com/api/token')\n"
   ]
  },
  {
   "cell_type": "code",
   "execution_count": null,
   "metadata": {},
   "outputs": [],
   "source": [
    "get_authorize_url()"
   ]
  },
  {
   "cell_type": "code",
   "execution_count": 5,
   "metadata": {},
   "outputs": [
    {
     "name": "stdout",
     "output_type": "stream",
     "text": [
      "ENTER A USER:orianamcdonough\n",
      "\n",
      "\n",
      "            User authentication requires interaction with your\n",
      "            web browser. Once you enter your credentials and\n",
      "            give authorization, you will be redirected to\n",
      "            a url.  Paste that url you were directed to to\n",
      "            complete the authorization.\n",
      "\n",
      "        \n",
      "Opened https://accounts.spotify.com/authorize?client_id=69d411268d5d47c7adc4dc6868928548&response_type=code&redirect_uri=https%3A%2F%2Faccounts.spotify.com%2Fapi%2Ftoken&scope=user-top-read in your browser\n",
      "\n",
      "\n",
      "Enter the URL you were redirected to: https://accounts.spotify.com/api/token?code=AQAIGe6nMRbvq2MV_-p0eLKNP1rAIshjhcL6qhjXQWkS4eP93BE7Y_TSYPCtR_zI-sbJUohhO0C7TyItmszmkkR9oH9ehPdhvLKjuQ2yRyqsGSlfu88-hvVEXi8rBXFd4hW_FTeFEo03wQtY11wvU5usZJZz7Lw4qGUjlwkvcZIT5xHB5z9nNFUdTF-30TyXSNbc83aX3CHdX0WZ8b3guXmAyU0XQ9QAqwMK\n",
      "\n",
      "\n",
      "range: short_term\n",
      "0 Gucci Mane\n",
      "range: medium_term\n",
      "0 Lil Uzi Vert\n",
      "1 A$AP Mob\n",
      "2 Kodak Black\n",
      "3 Travis Scott\n",
      "4 Gucci Mane\n",
      "5 Meek Mill\n",
      "6 Sublime\n",
      "7 21 Savage\n",
      "8 Drake\n",
      "9 2 Chainz\n",
      "10 A$AP Ferg\n",
      "11 Migos\n",
      "range: long_term\n",
      "0 Drake\n",
      "1 Meek Mill\n",
      "2 Kendrick Lamar\n",
      "3 JAY Z\n",
      "4 Kid Cudi\n",
      "5 Aer\n",
      "6 Kanye West\n",
      "7 A$AP Rocky\n",
      "8 Sublime\n",
      "9 2 Chainz\n",
      "10 Mac Miller\n",
      "11 Sabaton\n",
      "12 J. Cole\n",
      "13 Rick Ross\n",
      "14 Calvin Harris\n",
      "15 Mumford & Sons\n",
      "16 The Goo Goo Dolls\n",
      "17 Big Sean\n",
      "18 Lil Wayne\n",
      "19 Macklemore & Ryan Lewis\n",
      "20 Childish Gambino\n",
      "21 Eminem\n",
      "22 Red Hot Chili Peppers\n",
      "23 T.I.\n",
      "24 Passion Pit\n",
      "25 ScHoolboy Q\n",
      "26 Tiësto\n",
      "27 blink-182\n",
      "28 The Notorious B.I.G.\n",
      "29 The Black Keys\n",
      "30 Dr. Dre\n",
      "31 Kid Ink\n",
      "32 Ace Hood\n",
      "33 G-Eazy\n",
      "34 A$AP Ferg\n",
      "35 Tony Bennett\n",
      "36 Tyga\n",
      "37 The Game\n",
      "38 French Montana\n",
      "39 Logic\n",
      "40 Wiz Khalifa\n",
      "41 Juicy J\n",
      "42 Nas\n",
      "43 Wale\n",
      "44 Frank Sinatra\n",
      "45 David Guetta\n",
      "46 Young Thug\n",
      "47 50 Cent\n",
      "48 Jimmy Eat World\n",
      "49 Cash Cash\n"
     ]
    }
   ],
   "source": [
    "import pprint\n",
    "import sys\n",
    "\n",
    "import spotipy\n",
    "import spotipy.util as util\n",
    "import json as json\n",
    "\n",
    "if len(sys.argv) > 1:\n",
    "    username = sys.argv[1]\n",
    "else:\n",
    "    print(\"Usage: %s username\" % (sys.argv[0],))\n",
    "    sys.exit()\n",
    "username = input(\"ENTER A USER:\")\n",
    "scope = 'user-top-read'\n",
    "token = util.prompt_for_user_token(username,scope,client_id='69d411268d5d47c7adc4dc6868928548',client_secret='db95e59f1fa242d28a897684312a85e6',redirect_uri='https://accounts.spotify.com/api/token')\n",
    "\n",
    "if token:\n",
    "    sp = spotipy.Spotify(auth=token)\n",
    "    sp.trace = False\n",
    "    ranges = ['short_term', 'medium_term', 'long_term']\n",
    "    for range in ranges:\n",
    "        print(\"range:\", range)\n",
    "        results = sp.current_user_top_artists(time_range=range, limit=50)\n",
    "        for i, item in enumerate(results['items']):\n",
    "            print(i, item['name'])\n",
    "else:\n",
    "    print(\"Can't get token for\", username)"
   ]
  },
  {
   "cell_type": "code",
   "execution_count": null,
   "metadata": {
    "collapsed": true
   },
   "outputs": [],
   "source": []
  },
  {
   "cell_type": "code",
   "execution_count": null,
   "metadata": {
    "collapsed": true
   },
   "outputs": [],
   "source": []
  }
 ],
 "metadata": {
  "kernelspec": {
   "display_name": "Python 3",
   "language": "python",
   "name": "python3"
  },
  "language_info": {
   "codemirror_mode": {
    "name": "ipython",
    "version": 3
   },
   "file_extension": ".py",
   "mimetype": "text/x-python",
   "name": "python",
   "nbconvert_exporter": "python",
   "pygments_lexer": "ipython3",
   "version": "3.6.1"
  }
 },
 "nbformat": 4,
 "nbformat_minor": 2
}
